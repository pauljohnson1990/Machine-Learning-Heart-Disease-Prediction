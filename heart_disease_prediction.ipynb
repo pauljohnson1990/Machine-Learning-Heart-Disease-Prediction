{
 "cells": [
  {
   "cell_type": "markdown",
   "id": "5928ecae",
   "metadata": {},
   "source": [
    "# Importing Dependencies"
   ]
  },
  {
   "cell_type": "code",
   "execution_count": 1,
   "id": "c4d435b7",
   "metadata": {},
   "outputs": [],
   "source": [
    "import pandas as pd\n",
    "import numpy as np\n",
    "import matplotlib.pyplot as plt\n",
    "import seaborn as sns\n",
    "\n",
    "from sklearn.model_selection import KFold\n",
    "from sklearn.model_selection import cross_val_score\n",
    "from sklearn.metrics import confusion_matrix\n",
    "\n",
    "from sklearn.linear_model import LogisticRegression\n",
    "from sklearn.svm import SVC\n",
    "from sklearn.tree import DecisionTreeClassifier\n",
    "from sklearn.naive_bayes import GaussianNB\n",
    "from sklearn.neighbors import KNeighborsClassifier\n",
    "from sklearn.discriminant_analysis import LinearDiscriminantAnalysis"
   ]
  },
  {
   "cell_type": "markdown",
   "id": "97dff1ff",
   "metadata": {},
   "source": [
    "# Data Collection and Analysis"
   ]
  },
  {
   "cell_type": "code",
   "execution_count": 2,
   "id": "ba47b5c6",
   "metadata": {},
   "outputs": [],
   "source": [
    "df= pd.read_csv('heart.csv')"
   ]
  },
  {
   "cell_type": "code",
   "execution_count": 3,
   "id": "357f8ed4",
   "metadata": {},
   "outputs": [
    {
     "data": {
      "text/html": [
       "<div>\n",
       "<style scoped>\n",
       "    .dataframe tbody tr th:only-of-type {\n",
       "        vertical-align: middle;\n",
       "    }\n",
       "\n",
       "    .dataframe tbody tr th {\n",
       "        vertical-align: top;\n",
       "    }\n",
       "\n",
       "    .dataframe thead th {\n",
       "        text-align: right;\n",
       "    }\n",
       "</style>\n",
       "<table border=\"1\" class=\"dataframe\">\n",
       "  <thead>\n",
       "    <tr style=\"text-align: right;\">\n",
       "      <th></th>\n",
       "      <th>age</th>\n",
       "      <th>sex</th>\n",
       "      <th>cp</th>\n",
       "      <th>trestbps</th>\n",
       "      <th>chol</th>\n",
       "      <th>fbs</th>\n",
       "      <th>restecg</th>\n",
       "      <th>thalach</th>\n",
       "      <th>exang</th>\n",
       "      <th>oldpeak</th>\n",
       "      <th>slope</th>\n",
       "      <th>ca</th>\n",
       "      <th>thal</th>\n",
       "      <th>target</th>\n",
       "    </tr>\n",
       "  </thead>\n",
       "  <tbody>\n",
       "    <tr>\n",
       "      <th>0</th>\n",
       "      <td>52</td>\n",
       "      <td>1</td>\n",
       "      <td>0</td>\n",
       "      <td>125</td>\n",
       "      <td>212</td>\n",
       "      <td>0</td>\n",
       "      <td>1</td>\n",
       "      <td>168</td>\n",
       "      <td>0</td>\n",
       "      <td>1.0</td>\n",
       "      <td>2</td>\n",
       "      <td>2</td>\n",
       "      <td>3</td>\n",
       "      <td>0</td>\n",
       "    </tr>\n",
       "    <tr>\n",
       "      <th>1</th>\n",
       "      <td>53</td>\n",
       "      <td>1</td>\n",
       "      <td>0</td>\n",
       "      <td>140</td>\n",
       "      <td>203</td>\n",
       "      <td>1</td>\n",
       "      <td>0</td>\n",
       "      <td>155</td>\n",
       "      <td>1</td>\n",
       "      <td>3.1</td>\n",
       "      <td>0</td>\n",
       "      <td>0</td>\n",
       "      <td>3</td>\n",
       "      <td>0</td>\n",
       "    </tr>\n",
       "    <tr>\n",
       "      <th>2</th>\n",
       "      <td>70</td>\n",
       "      <td>1</td>\n",
       "      <td>0</td>\n",
       "      <td>145</td>\n",
       "      <td>174</td>\n",
       "      <td>0</td>\n",
       "      <td>1</td>\n",
       "      <td>125</td>\n",
       "      <td>1</td>\n",
       "      <td>2.6</td>\n",
       "      <td>0</td>\n",
       "      <td>0</td>\n",
       "      <td>3</td>\n",
       "      <td>0</td>\n",
       "    </tr>\n",
       "    <tr>\n",
       "      <th>3</th>\n",
       "      <td>61</td>\n",
       "      <td>1</td>\n",
       "      <td>0</td>\n",
       "      <td>148</td>\n",
       "      <td>203</td>\n",
       "      <td>0</td>\n",
       "      <td>1</td>\n",
       "      <td>161</td>\n",
       "      <td>0</td>\n",
       "      <td>0.0</td>\n",
       "      <td>2</td>\n",
       "      <td>1</td>\n",
       "      <td>3</td>\n",
       "      <td>0</td>\n",
       "    </tr>\n",
       "    <tr>\n",
       "      <th>4</th>\n",
       "      <td>62</td>\n",
       "      <td>0</td>\n",
       "      <td>0</td>\n",
       "      <td>138</td>\n",
       "      <td>294</td>\n",
       "      <td>1</td>\n",
       "      <td>1</td>\n",
       "      <td>106</td>\n",
       "      <td>0</td>\n",
       "      <td>1.9</td>\n",
       "      <td>1</td>\n",
       "      <td>3</td>\n",
       "      <td>2</td>\n",
       "      <td>0</td>\n",
       "    </tr>\n",
       "  </tbody>\n",
       "</table>\n",
       "</div>"
      ],
      "text/plain": [
       "   age  sex  cp  trestbps  chol  fbs  restecg  thalach  exang  oldpeak  slope  \\\n",
       "0   52    1   0       125   212    0        1      168      0      1.0      2   \n",
       "1   53    1   0       140   203    1        0      155      1      3.1      0   \n",
       "2   70    1   0       145   174    0        1      125      1      2.6      0   \n",
       "3   61    1   0       148   203    0        1      161      0      0.0      2   \n",
       "4   62    0   0       138   294    1        1      106      0      1.9      1   \n",
       "\n",
       "   ca  thal  target  \n",
       "0   2     3       0  \n",
       "1   0     3       0  \n",
       "2   0     3       0  \n",
       "3   1     3       0  \n",
       "4   3     2       0  "
      ]
     },
     "execution_count": 3,
     "metadata": {},
     "output_type": "execute_result"
    }
   ],
   "source": [
    "df.head()"
   ]
  },
  {
   "cell_type": "markdown",
   "id": "99af3cc3",
   "metadata": {},
   "source": [
    "1.\tage\n",
    "2.\tsex\n",
    "3.\tchest pain type (4 values) [TA: Typical Angina, ATA: Atypical Angina, NAP: Non-Anginal Pain, ASY: Asymptomatic]\n",
    "4.\tresting blood pressure\n",
    "5.\tserum cholestoral in mg/dl\n",
    "6.\tfasting blood sugar > 120 mg/dl\n",
    "7.\tresting electrocardiographic results (values 0,1,2)0: Normal  1: Having ST-T wave abnormality (T wave inversions and/or ST elevation or depression of >0.05 mV) 2: Showing probable or definite left ventricular hypertrophy\n",
    "8.\tmaximum heart rate achieved\n",
    "9.\texercise induced angina\n",
    "10.\toldpeak = ST depression induced by exercise relative to rest\n",
    "11.\tthe slope of the peak exercise ST segment  ['Down','Flat','Up' ]\n",
    "12.\tnumber of major vessels (0-3) colored by flourosopy\n",
    "13.\tthal: 0 = normal; 1 = fixed defect; 2 = reversable defect\n"
   ]
  },
  {
   "cell_type": "code",
   "execution_count": 4,
   "id": "40d2c1ab",
   "metadata": {},
   "outputs": [
    {
     "data": {
      "text/plain": [
       "(1025, 14)"
      ]
     },
     "execution_count": 4,
     "metadata": {},
     "output_type": "execute_result"
    }
   ],
   "source": [
    "df.shape"
   ]
  },
  {
   "cell_type": "markdown",
   "id": "dd4c0272",
   "metadata": {},
   "source": [
    "# Checking for null values"
   ]
  },
  {
   "cell_type": "code",
   "execution_count": 5,
   "id": "a2388607",
   "metadata": {},
   "outputs": [
    {
     "data": {
      "text/plain": [
       "age         0\n",
       "sex         0\n",
       "cp          0\n",
       "trestbps    0\n",
       "chol        0\n",
       "fbs         0\n",
       "restecg     0\n",
       "thalach     0\n",
       "exang       0\n",
       "oldpeak     0\n",
       "slope       0\n",
       "ca          0\n",
       "thal        0\n",
       "target      0\n",
       "dtype: int64"
      ]
     },
     "execution_count": 5,
     "metadata": {},
     "output_type": "execute_result"
    }
   ],
   "source": [
    "df.isnull().sum()"
   ]
  },
  {
   "cell_type": "markdown",
   "id": "60a16d8f",
   "metadata": {},
   "source": [
    "# Categorical Columns"
   ]
  },
  {
   "cell_type": "code",
   "execution_count": 6,
   "id": "dc4cc114",
   "metadata": {
    "scrolled": true
   },
   "outputs": [
    {
     "data": {
      "text/plain": [
       "age           int64\n",
       "sex           int64\n",
       "cp            int64\n",
       "trestbps      int64\n",
       "chol          int64\n",
       "fbs           int64\n",
       "restecg       int64\n",
       "thalach       int64\n",
       "exang         int64\n",
       "oldpeak     float64\n",
       "slope         int64\n",
       "ca            int64\n",
       "thal          int64\n",
       "target        int64\n",
       "dtype: object"
      ]
     },
     "execution_count": 6,
     "metadata": {},
     "output_type": "execute_result"
    }
   ],
   "source": [
    "df.dtypes"
   ]
  },
  {
   "cell_type": "code",
   "execution_count": 7,
   "id": "a90a7e95",
   "metadata": {},
   "outputs": [],
   "source": [
    "# All categorical columns are already converted into numericals"
   ]
  },
  {
   "cell_type": "markdown",
   "id": "4de08add",
   "metadata": {},
   "source": [
    "# Checking whether the data is balanced"
   ]
  },
  {
   "cell_type": "code",
   "execution_count": 8,
   "id": "8b401c5c",
   "metadata": {},
   "outputs": [
    {
     "data": {
      "image/png": "[encoded data removed]",
      "text/plain": [
       "<Figure size 432x288 with 1 Axes>"
      ]
     },
     "metadata": {
      "needs_background": "light"
     },
     "output_type": "display_data"
    }
   ],
   "source": [
    "df.groupby('target')[['target']].count().plot(kind='bar',color='g',title='Heart Disease Count',legend=False);"
   ]
  },
  {
   "cell_type": "code",
   "execution_count": 9,
   "id": "fedca4a8",
   "metadata": {},
   "outputs": [],
   "source": [
    "# dataset is quite balanced"
   ]
  },
  {
   "cell_type": "code",
   "execution_count": 10,
   "id": "c582f0e2",
   "metadata": {},
   "outputs": [
    {
     "data": {
      "text/html": [
       "<div>\n",
       "<style scoped>\n",
       "    .dataframe tbody tr th:only-of-type {\n",
       "        vertical-align: middle;\n",
       "    }\n",
       "\n",
       "    .dataframe tbody tr th {\n",
       "        vertical-align: top;\n",
       "    }\n",
       "\n",
       "    .dataframe thead th {\n",
       "        text-align: right;\n",
       "    }\n",
       "</style>\n",
       "<table border=\"1\" class=\"dataframe\">\n",
       "  <thead>\n",
       "    <tr style=\"text-align: right;\">\n",
       "      <th></th>\n",
       "      <th>age</th>\n",
       "      <th>sex</th>\n",
       "      <th>cp</th>\n",
       "      <th>trestbps</th>\n",
       "      <th>chol</th>\n",
       "      <th>fbs</th>\n",
       "      <th>restecg</th>\n",
       "      <th>thalach</th>\n",
       "      <th>exang</th>\n",
       "      <th>oldpeak</th>\n",
       "      <th>slope</th>\n",
       "      <th>ca</th>\n",
       "      <th>thal</th>\n",
       "    </tr>\n",
       "    <tr>\n",
       "      <th>target</th>\n",
       "      <th></th>\n",
       "      <th></th>\n",
       "      <th></th>\n",
       "      <th></th>\n",
       "      <th></th>\n",
       "      <th></th>\n",
       "      <th></th>\n",
       "      <th></th>\n",
       "      <th></th>\n",
       "      <th></th>\n",
       "      <th></th>\n",
       "      <th></th>\n",
       "      <th></th>\n",
       "    </tr>\n",
       "  </thead>\n",
       "  <tbody>\n",
       "    <tr>\n",
       "      <th>0</th>\n",
       "      <td>56.569138</td>\n",
       "      <td>0.827655</td>\n",
       "      <td>0.482966</td>\n",
       "      <td>134.106212</td>\n",
       "      <td>251.292585</td>\n",
       "      <td>0.164329</td>\n",
       "      <td>0.456914</td>\n",
       "      <td>139.130261</td>\n",
       "      <td>0.549098</td>\n",
       "      <td>1.600200</td>\n",
       "      <td>1.166333</td>\n",
       "      <td>1.158317</td>\n",
       "      <td>2.539078</td>\n",
       "    </tr>\n",
       "    <tr>\n",
       "      <th>1</th>\n",
       "      <td>52.408745</td>\n",
       "      <td>0.570342</td>\n",
       "      <td>1.378327</td>\n",
       "      <td>129.245247</td>\n",
       "      <td>240.979087</td>\n",
       "      <td>0.134981</td>\n",
       "      <td>0.598859</td>\n",
       "      <td>158.585551</td>\n",
       "      <td>0.134981</td>\n",
       "      <td>0.569962</td>\n",
       "      <td>1.593156</td>\n",
       "      <td>0.370722</td>\n",
       "      <td>2.119772</td>\n",
       "    </tr>\n",
       "  </tbody>\n",
       "</table>\n",
       "</div>"
      ],
      "text/plain": [
       "              age       sex        cp    trestbps        chol       fbs  \\\n",
       "target                                                                    \n",
       "0       56.569138  0.827655  0.482966  134.106212  251.292585  0.164329   \n",
       "1       52.408745  0.570342  1.378327  129.245247  240.979087  0.134981   \n",
       "\n",
       "         restecg     thalach     exang   oldpeak     slope        ca      thal  \n",
       "target                                                                          \n",
       "0       0.456914  139.130261  0.549098  1.600200  1.166333  1.158317  2.539078  \n",
       "1       0.598859  158.585551  0.134981  0.569962  1.593156  0.370722  2.119772  "
      ]
     },
     "execution_count": 10,
     "metadata": {},
     "output_type": "execute_result"
    }
   ],
   "source": [
    "df.groupby('target').mean()"
   ]
  },
  {
   "cell_type": "code",
   "execution_count": 11,
   "id": "0680996b",
   "metadata": {
    "scrolled": true
   },
   "outputs": [
    {
     "data": {
      "text/html": [
       "<div>\n",
       "<style scoped>\n",
       "    .dataframe tbody tr th:only-of-type {\n",
       "        vertical-align: middle;\n",
       "    }\n",
       "\n",
       "    .dataframe tbody tr th {\n",
       "        vertical-align: top;\n",
       "    }\n",
       "\n",
       "    .dataframe thead th {\n",
       "        text-align: right;\n",
       "    }\n",
       "</style>\n",
       "<table border=\"1\" class=\"dataframe\">\n",
       "  <thead>\n",
       "    <tr style=\"text-align: right;\">\n",
       "      <th></th>\n",
       "      <th>age</th>\n",
       "      <th>sex</th>\n",
       "      <th>cp</th>\n",
       "      <th>trestbps</th>\n",
       "      <th>chol</th>\n",
       "      <th>fbs</th>\n",
       "      <th>restecg</th>\n",
       "      <th>thalach</th>\n",
       "      <th>exang</th>\n",
       "      <th>oldpeak</th>\n",
       "      <th>slope</th>\n",
       "      <th>ca</th>\n",
       "      <th>thal</th>\n",
       "      <th>target</th>\n",
       "    </tr>\n",
       "  </thead>\n",
       "  <tbody>\n",
       "    <tr>\n",
       "      <th>count</th>\n",
       "      <td>499.000000</td>\n",
       "      <td>499.000000</td>\n",
       "      <td>499.000000</td>\n",
       "      <td>499.000000</td>\n",
       "      <td>499.000000</td>\n",
       "      <td>499.000000</td>\n",
       "      <td>499.000000</td>\n",
       "      <td>499.000000</td>\n",
       "      <td>499.000000</td>\n",
       "      <td>499.000000</td>\n",
       "      <td>499.000000</td>\n",
       "      <td>499.000000</td>\n",
       "      <td>499.000000</td>\n",
       "      <td>499.0</td>\n",
       "    </tr>\n",
       "    <tr>\n",
       "      <th>mean</th>\n",
       "      <td>56.569138</td>\n",
       "      <td>0.827655</td>\n",
       "      <td>0.482966</td>\n",
       "      <td>134.106212</td>\n",
       "      <td>251.292585</td>\n",
       "      <td>0.164329</td>\n",
       "      <td>0.456914</td>\n",
       "      <td>139.130261</td>\n",
       "      <td>0.549098</td>\n",
       "      <td>1.600200</td>\n",
       "      <td>1.166333</td>\n",
       "      <td>1.158317</td>\n",
       "      <td>2.539078</td>\n",
       "      <td>0.0</td>\n",
       "    </tr>\n",
       "    <tr>\n",
       "      <th>std</th>\n",
       "      <td>7.908153</td>\n",
       "      <td>0.378059</td>\n",
       "      <td>0.908024</td>\n",
       "      <td>18.576736</td>\n",
       "      <td>49.558924</td>\n",
       "      <td>0.370945</td>\n",
       "      <td>0.544825</td>\n",
       "      <td>22.565235</td>\n",
       "      <td>0.498083</td>\n",
       "      <td>1.290956</td>\n",
       "      <td>0.568932</td>\n",
       "      <td>1.032108</td>\n",
       "      <td>0.685460</td>\n",
       "      <td>0.0</td>\n",
       "    </tr>\n",
       "    <tr>\n",
       "      <th>min</th>\n",
       "      <td>35.000000</td>\n",
       "      <td>0.000000</td>\n",
       "      <td>0.000000</td>\n",
       "      <td>100.000000</td>\n",
       "      <td>131.000000</td>\n",
       "      <td>0.000000</td>\n",
       "      <td>0.000000</td>\n",
       "      <td>71.000000</td>\n",
       "      <td>0.000000</td>\n",
       "      <td>0.000000</td>\n",
       "      <td>0.000000</td>\n",
       "      <td>0.000000</td>\n",
       "      <td>0.000000</td>\n",
       "      <td>0.0</td>\n",
       "    </tr>\n",
       "    <tr>\n",
       "      <th>25%</th>\n",
       "      <td>52.000000</td>\n",
       "      <td>1.000000</td>\n",
       "      <td>0.000000</td>\n",
       "      <td>120.000000</td>\n",
       "      <td>217.000000</td>\n",
       "      <td>0.000000</td>\n",
       "      <td>0.000000</td>\n",
       "      <td>125.000000</td>\n",
       "      <td>0.000000</td>\n",
       "      <td>0.600000</td>\n",
       "      <td>1.000000</td>\n",
       "      <td>0.000000</td>\n",
       "      <td>2.000000</td>\n",
       "      <td>0.0</td>\n",
       "    </tr>\n",
       "    <tr>\n",
       "      <th>50%</th>\n",
       "      <td>58.000000</td>\n",
       "      <td>1.000000</td>\n",
       "      <td>0.000000</td>\n",
       "      <td>130.000000</td>\n",
       "      <td>249.000000</td>\n",
       "      <td>0.000000</td>\n",
       "      <td>0.000000</td>\n",
       "      <td>142.000000</td>\n",
       "      <td>1.000000</td>\n",
       "      <td>1.400000</td>\n",
       "      <td>1.000000</td>\n",
       "      <td>1.000000</td>\n",
       "      <td>3.000000</td>\n",
       "      <td>0.0</td>\n",
       "    </tr>\n",
       "    <tr>\n",
       "      <th>75%</th>\n",
       "      <td>62.000000</td>\n",
       "      <td>1.000000</td>\n",
       "      <td>0.000000</td>\n",
       "      <td>144.000000</td>\n",
       "      <td>284.000000</td>\n",
       "      <td>0.000000</td>\n",
       "      <td>1.000000</td>\n",
       "      <td>156.000000</td>\n",
       "      <td>1.000000</td>\n",
       "      <td>2.500000</td>\n",
       "      <td>2.000000</td>\n",
       "      <td>2.000000</td>\n",
       "      <td>3.000000</td>\n",
       "      <td>0.0</td>\n",
       "    </tr>\n",
       "    <tr>\n",
       "      <th>max</th>\n",
       "      <td>77.000000</td>\n",
       "      <td>1.000000</td>\n",
       "      <td>3.000000</td>\n",
       "      <td>200.000000</td>\n",
       "      <td>409.000000</td>\n",
       "      <td>1.000000</td>\n",
       "      <td>2.000000</td>\n",
       "      <td>195.000000</td>\n",
       "      <td>1.000000</td>\n",
       "      <td>6.200000</td>\n",
       "      <td>2.000000</td>\n",
       "      <td>4.000000</td>\n",
       "      <td>3.000000</td>\n",
       "      <td>0.0</td>\n",
       "    </tr>\n",
       "  </tbody>\n",
       "</table>\n",
       "</div>"
      ],
      "text/plain": [
       "              age         sex          cp    trestbps        chol         fbs  \\\n",
       "count  499.000000  499.000000  499.000000  499.000000  499.000000  499.000000   \n",
       "mean    56.569138    0.827655    0.482966  134.106212  251.292585    0.164329   \n",
       "std      7.908153    0.378059    0.908024   18.576736   49.558924    0.370945   \n",
       "min     35.000000    0.000000    0.000000  100.000000  131.000000    0.000000   \n",
       "25%     52.000000    1.000000    0.000000  120.000000  217.000000    0.000000   \n",
       "50%     58.000000    1.000000    0.000000  130.000000  249.000000    0.000000   \n",
       "75%     62.000000    1.000000    0.000000  144.000000  284.000000    0.000000   \n",
       "max     77.000000    1.000000    3.000000  200.000000  409.000000    1.000000   \n",
       "\n",
       "          restecg     thalach       exang     oldpeak       slope          ca  \\\n",
       "count  499.000000  499.000000  499.000000  499.000000  499.000000  499.000000   \n",
       "mean     0.456914  139.130261    0.549098    1.600200    1.166333    1.158317   \n",
       "std      0.544825   22.565235    0.498083    1.290956    0.568932    1.032108   \n",
       "min      0.000000   71.000000    0.000000    0.000000    0.000000    0.000000   \n",
       "25%      0.000000  125.000000    0.000000    0.600000    1.000000    0.000000   \n",
       "50%      0.000000  142.000000    1.000000    1.400000    1.000000    1.000000   \n",
       "75%      1.000000  156.000000    1.000000    2.500000    2.000000    2.000000   \n",
       "max      2.000000  195.000000    1.000000    6.200000    2.000000    4.000000   \n",
       "\n",
       "             thal  target  \n",
       "count  499.000000   499.0  \n",
       "mean     2.539078     0.0  \n",
       "std      0.685460     0.0  \n",
       "min      0.000000     0.0  \n",
       "25%      2.000000     0.0  \n",
       "50%      3.000000     0.0  \n",
       "75%      3.000000     0.0  \n",
       "max      3.000000     0.0  "
      ]
     },
     "execution_count": 11,
     "metadata": {},
     "output_type": "execute_result"
    }
   ],
   "source": [
    "df[df.target==0].describe()"
   ]
  },
  {
   "cell_type": "code",
   "execution_count": 12,
   "id": "4779b91b",
   "metadata": {},
   "outputs": [
    {
     "data": {
      "text/html": [
       "<div>\n",
       "<style scoped>\n",
       "    .dataframe tbody tr th:only-of-type {\n",
       "        vertical-align: middle;\n",
       "    }\n",
       "\n",
       "    .dataframe tbody tr th {\n",
       "        vertical-align: top;\n",
       "    }\n",
       "\n",
       "    .dataframe thead th {\n",
       "        text-align: right;\n",
       "    }\n",
       "</style>\n",
       "<table border=\"1\" class=\"dataframe\">\n",
       "  <thead>\n",
       "    <tr style=\"text-align: right;\">\n",
       "      <th></th>\n",
       "      <th>age</th>\n",
       "      <th>sex</th>\n",
       "      <th>cp</th>\n",
       "      <th>trestbps</th>\n",
       "      <th>chol</th>\n",
       "      <th>fbs</th>\n",
       "      <th>restecg</th>\n",
       "      <th>thalach</th>\n",
       "      <th>exang</th>\n",
       "      <th>oldpeak</th>\n",
       "      <th>slope</th>\n",
       "      <th>ca</th>\n",
       "      <th>thal</th>\n",
       "      <th>target</th>\n",
       "    </tr>\n",
       "  </thead>\n",
       "  <tbody>\n",
       "    <tr>\n",
       "      <th>count</th>\n",
       "      <td>526.000000</td>\n",
       "      <td>526.000000</td>\n",
       "      <td>526.000000</td>\n",
       "      <td>526.000000</td>\n",
       "      <td>526.000000</td>\n",
       "      <td>526.000000</td>\n",
       "      <td>526.000000</td>\n",
       "      <td>526.000000</td>\n",
       "      <td>526.000000</td>\n",
       "      <td>526.000000</td>\n",
       "      <td>526.000000</td>\n",
       "      <td>526.000000</td>\n",
       "      <td>526.000000</td>\n",
       "      <td>526.0</td>\n",
       "    </tr>\n",
       "    <tr>\n",
       "      <th>mean</th>\n",
       "      <td>52.408745</td>\n",
       "      <td>0.570342</td>\n",
       "      <td>1.378327</td>\n",
       "      <td>129.245247</td>\n",
       "      <td>240.979087</td>\n",
       "      <td>0.134981</td>\n",
       "      <td>0.598859</td>\n",
       "      <td>158.585551</td>\n",
       "      <td>0.134981</td>\n",
       "      <td>0.569962</td>\n",
       "      <td>1.593156</td>\n",
       "      <td>0.370722</td>\n",
       "      <td>2.119772</td>\n",
       "      <td>1.0</td>\n",
       "    </tr>\n",
       "    <tr>\n",
       "      <th>std</th>\n",
       "      <td>9.631804</td>\n",
       "      <td>0.495498</td>\n",
       "      <td>0.945881</td>\n",
       "      <td>16.112188</td>\n",
       "      <td>53.010345</td>\n",
       "      <td>0.342029</td>\n",
       "      <td>0.502109</td>\n",
       "      <td>19.096928</td>\n",
       "      <td>0.342029</td>\n",
       "      <td>0.771079</td>\n",
       "      <td>0.590295</td>\n",
       "      <td>0.871462</td>\n",
       "      <td>0.468949</td>\n",
       "      <td>0.0</td>\n",
       "    </tr>\n",
       "    <tr>\n",
       "      <th>min</th>\n",
       "      <td>29.000000</td>\n",
       "      <td>0.000000</td>\n",
       "      <td>0.000000</td>\n",
       "      <td>94.000000</td>\n",
       "      <td>126.000000</td>\n",
       "      <td>0.000000</td>\n",
       "      <td>0.000000</td>\n",
       "      <td>96.000000</td>\n",
       "      <td>0.000000</td>\n",
       "      <td>0.000000</td>\n",
       "      <td>0.000000</td>\n",
       "      <td>0.000000</td>\n",
       "      <td>0.000000</td>\n",
       "      <td>1.0</td>\n",
       "    </tr>\n",
       "    <tr>\n",
       "      <th>25%</th>\n",
       "      <td>44.000000</td>\n",
       "      <td>0.000000</td>\n",
       "      <td>1.000000</td>\n",
       "      <td>120.000000</td>\n",
       "      <td>208.000000</td>\n",
       "      <td>0.000000</td>\n",
       "      <td>0.000000</td>\n",
       "      <td>149.000000</td>\n",
       "      <td>0.000000</td>\n",
       "      <td>0.000000</td>\n",
       "      <td>1.000000</td>\n",
       "      <td>0.000000</td>\n",
       "      <td>2.000000</td>\n",
       "      <td>1.0</td>\n",
       "    </tr>\n",
       "    <tr>\n",
       "      <th>50%</th>\n",
       "      <td>52.000000</td>\n",
       "      <td>1.000000</td>\n",
       "      <td>2.000000</td>\n",
       "      <td>130.000000</td>\n",
       "      <td>234.000000</td>\n",
       "      <td>0.000000</td>\n",
       "      <td>1.000000</td>\n",
       "      <td>161.500000</td>\n",
       "      <td>0.000000</td>\n",
       "      <td>0.200000</td>\n",
       "      <td>2.000000</td>\n",
       "      <td>0.000000</td>\n",
       "      <td>2.000000</td>\n",
       "      <td>1.0</td>\n",
       "    </tr>\n",
       "    <tr>\n",
       "      <th>75%</th>\n",
       "      <td>59.000000</td>\n",
       "      <td>1.000000</td>\n",
       "      <td>2.000000</td>\n",
       "      <td>140.000000</td>\n",
       "      <td>265.750000</td>\n",
       "      <td>0.000000</td>\n",
       "      <td>1.000000</td>\n",
       "      <td>172.000000</td>\n",
       "      <td>0.000000</td>\n",
       "      <td>1.000000</td>\n",
       "      <td>2.000000</td>\n",
       "      <td>0.000000</td>\n",
       "      <td>2.000000</td>\n",
       "      <td>1.0</td>\n",
       "    </tr>\n",
       "    <tr>\n",
       "      <th>max</th>\n",
       "      <td>76.000000</td>\n",
       "      <td>1.000000</td>\n",
       "      <td>3.000000</td>\n",
       "      <td>180.000000</td>\n",
       "      <td>564.000000</td>\n",
       "      <td>1.000000</td>\n",
       "      <td>2.000000</td>\n",
       "      <td>202.000000</td>\n",
       "      <td>1.000000</td>\n",
       "      <td>4.200000</td>\n",
       "      <td>2.000000</td>\n",
       "      <td>4.000000</td>\n",
       "      <td>3.000000</td>\n",
       "      <td>1.0</td>\n",
       "    </tr>\n",
       "  </tbody>\n",
       "</table>\n",
       "</div>"
      ],
      "text/plain": [
       "              age         sex          cp    trestbps        chol         fbs  \\\n",
       "count  526.000000  526.000000  526.000000  526.000000  526.000000  526.000000   \n",
       "mean    52.408745    0.570342    1.378327  129.245247  240.979087    0.134981   \n",
       "std      9.631804    0.495498    0.945881   16.112188   53.010345    0.342029   \n",
       "min     29.000000    0.000000    0.000000   94.000000  126.000000    0.000000   \n",
       "25%     44.000000    0.000000    1.000000  120.000000  208.000000    0.000000   \n",
       "50%     52.000000    1.000000    2.000000  130.000000  234.000000    0.000000   \n",
       "75%     59.000000    1.000000    2.000000  140.000000  265.750000    0.000000   \n",
       "max     76.000000    1.000000    3.000000  180.000000  564.000000    1.000000   \n",
       "\n",
       "          restecg     thalach       exang     oldpeak       slope          ca  \\\n",
       "count  526.000000  526.000000  526.000000  526.000000  526.000000  526.000000   \n",
       "mean     0.598859  158.585551    0.134981    0.569962    1.593156    0.370722   \n",
       "std      0.502109   19.096928    0.342029    0.771079    0.590295    0.871462   \n",
       "min      0.000000   96.000000    0.000000    0.000000    0.000000    0.000000   \n",
       "25%      0.000000  149.000000    0.000000    0.000000    1.000000    0.000000   \n",
       "50%      1.000000  161.500000    0.000000    0.200000    2.000000    0.000000   \n",
       "75%      1.000000  172.000000    0.000000    1.000000    2.000000    0.000000   \n",
       "max      2.000000  202.000000    1.000000    4.200000    2.000000    4.000000   \n",
       "\n",
       "             thal  target  \n",
       "count  526.000000   526.0  \n",
       "mean     2.119772     1.0  \n",
       "std      0.468949     0.0  \n",
       "min      0.000000     1.0  \n",
       "25%      2.000000     1.0  \n",
       "50%      2.000000     1.0  \n",
       "75%      2.000000     1.0  \n",
       "max      3.000000     1.0  "
      ]
     },
     "execution_count": 12,
     "metadata": {},
     "output_type": "execute_result"
    }
   ],
   "source": [
    "df[df.target==1].describe()"
   ]
  },
  {
   "cell_type": "markdown",
   "id": "558b927c",
   "metadata": {},
   "source": [
    "### Checking Male and female proportion of data"
   ]
  },
  {
   "cell_type": "code",
   "execution_count": 13,
   "id": "c1d39417",
   "metadata": {
    "scrolled": true
   },
   "outputs": [
    {
     "data": {
      "image/png": "[encoded data removed]",
      "text/plain": [
       "<Figure size 432x288 with 1 Axes>"
      ]
     },
     "metadata": {
      "needs_background": "light"
     },
     "output_type": "display_data"
    }
   ],
   "source": [
    "sns.countplot(x=df['sex']);"
   ]
  },
  {
   "cell_type": "markdown",
   "id": "571a064a",
   "metadata": {},
   "source": [
    "##### data is more skewed to Male"
   ]
  },
  {
   "cell_type": "markdown",
   "id": "3e729e09",
   "metadata": {},
   "source": [
    "### Distribution of ages"
   ]
  },
  {
   "cell_type": "code",
   "execution_count": 14,
   "id": "4bd7b93c",
   "metadata": {},
   "outputs": [
    {
     "data": {
      "text/plain": [
       "<Figure size 432x288 with 0 Axes>"
      ]
     },
     "metadata": {},
     "output_type": "display_data"
    },
    {
     "data": {
      "image/png": "[encoded data removed]",
      "text/plain": [
       "<Figure size 762.375x360 with 2 Axes>"
      ]
     },
     "metadata": {
      "needs_background": "light"
     },
     "output_type": "display_data"
    }
   ],
   "source": [
    "plt.figure()\n",
    "sns.displot(x='age',hue='target',data=df,fill=True,kind='kde',col='sex')\n",
    "plt.show()"
   ]
  },
  {
   "cell_type": "markdown",
   "id": "5b7823a2",
   "metadata": {},
   "source": [
    "##### The patients age are between 30 and 70"
   ]
  },
  {
   "cell_type": "markdown",
   "id": "fcee9286",
   "metadata": {},
   "source": [
    "#### Chest Pain"
   ]
  },
  {
   "cell_type": "code",
   "execution_count": 15,
   "id": "dc16b2d7",
   "metadata": {
    "scrolled": true
   },
   "outputs": [
    {
     "data": {
      "image/png": "[encoded data removed]",
      "text/plain": [
       "<Figure size 432x288 with 1 Axes>"
      ]
     },
     "metadata": {
      "needs_background": "light"
     },
     "output_type": "display_data"
    }
   ],
   "source": [
    "plt.figure()\n",
    "plt.title(\"Different Chest Pains vs Heart Disease\")\n",
    "sns.countplot(x='cp',data=df,hue='target')\n",
    "plt.xticks(ticks=[0,1,2,3],labels=['Typical Angina','Atypical Angina','Non-Anginal Pain','Asymptomatic'],rotation=40)\n",
    "plt.xlabel('Chest Pain Type')\n",
    "plt.show()\n",
    "# 0: Typical Angina: - chest pain related decrease blood supply to the heart\n",
    "# 1: Atypical Angina: - chest pain not related to heart\n",
    "# 2: Non-Anginal Pain: - typically esophageal spasms (non heart related)\n",
    "# 3: Asymptomatic: - chest pain not showing signs of disease"
   ]
  },
  {
   "cell_type": "markdown",
   "id": "ce395bac",
   "metadata": {},
   "source": [
    "##### Non_Anginal Chest Pain can be a significant symptom for having Heart Disease"
   ]
  },
  {
   "cell_type": "markdown",
   "id": "391bdfbe",
   "metadata": {},
   "source": [
    "### Body Sugar>120 and chance of Heart Disease"
   ]
  },
  {
   "cell_type": "code",
   "execution_count": 16,
   "id": "193c69d8",
   "metadata": {},
   "outputs": [
    {
     "data": {
      "image/png": "[encoded data removed]",
      "text/plain": [
       "<Figure size 432x288 with 1 Axes>"
      ]
     },
     "metadata": {
      "needs_background": "light"
     },
     "output_type": "display_data"
    }
   ],
   "source": [
    "plt.figure()\n",
    "plt.title(\"Body sugar>120mg/dl  and Heart Disease\")\n",
    "sns.countplot(x=\"fbs\",data=df,hue='target',palette = \"Set2\")\n",
    "plt.xticks(ticks=[0,1],labels=['Yes','No'])\n",
    "plt.show()"
   ]
  },
  {
   "cell_type": "markdown",
   "id": "93139974",
   "metadata": {},
   "source": [
    "##### No specific relation can be concluded with people heart disease as well as no heart disease with respect to blood sugar level"
   ]
  },
  {
   "cell_type": "markdown",
   "id": "dfc4082d",
   "metadata": {},
   "source": [
    "#### Electrocardio graph, Slope, C,oloured Vessel, Thalassemia wrt Heart Disease"
   ]
  },
  {
   "cell_type": "code",
   "execution_count": 17,
   "id": "86ade976",
   "metadata": {},
   "outputs": [
    {
     "data": {
      "image/png": "[encoded data removed]",
      "text/plain": [
       "<Figure size 720x504 with 4 Axes>"
      ]
     },
     "metadata": {
      "needs_background": "light"
     },
     "output_type": "display_data"
    }
   ],
   "source": [
    "plt.figure(figsize=(10,7))\n",
    "plt.subplot(2,2,1)\n",
    "plt.title(\"Electrocardio graph wrt Heart Disease\")\n",
    "sns.countplot(x='restecg',data=df,hue='target')\n",
    "plt.xticks(ticks=[0,1,2],labels=[\"Normal\",\"ST-T_wave_abnormality\",\"probable_left_ventricular_hypertrophy\"],rotation=40)\n",
    "plt.subplot(2,2,2)\n",
    "plt.title(\"Slope wrt Heart Disease\")\n",
    "sns.countplot(x='slope',hue='target',data=df)\n",
    "plt.xticks(ticks=[0,1,2],labels=[\"Down\",\"Flat\",\"Up\"])\n",
    "plt.subplot(2,2,3)\n",
    "plt.title(\"Coloured Vessel wrt Heart Disease\")\n",
    "sns.countplot(x='ca',hue='target',data=df)\n",
    "plt.xlabel(\"No of Coloured Vessels\")\n",
    "plt.subplot(2,2,4)\n",
    "plt.title(\"Thalassemia wrt Heart Disease\")\n",
    "sns.countplot(x='thal',hue='target',data=df)\n",
    "plt.tight_layout()\n",
    "plt.show()"
   ]
  },
  {
   "cell_type": "markdown",
   "id": "3a6d9ec4",
   "metadata": {},
   "source": [
    "### Checking Correlation between numerical variables"
   ]
  },
  {
   "cell_type": "code",
   "execution_count": 18,
   "id": "fe42455c",
   "metadata": {},
   "outputs": [
    {
     "data": {
      "image/png": "[encoded data removed]",
      "text/plain": [
       "<Figure size 720x504 with 2 Axes>"
      ]
     },
     "metadata": {
      "needs_background": "light"
     },
     "output_type": "display_data"
    }
   ],
   "source": [
    "# Checking Correlation for numerical values\n",
    "plt.figure(figsize=(10,7))\n",
    "sns.heatmap(df[['age','trestbps','chol','thalach','oldpeak','target']].corr(),annot=True,cmap=\"YlGnBu\")\n",
    "plt.show()"
   ]
  },
  {
   "cell_type": "markdown",
   "id": "f20d0d93",
   "metadata": {},
   "source": [
    "#### We checked the correlation for different numerical variables and there was no clear correlation between any two variables therefore we are using all these columns for model building."
   ]
  },
  {
   "cell_type": "code",
   "execution_count": 19,
   "id": "f8d05b51",
   "metadata": {},
   "outputs": [],
   "source": [
    "from sklearn.preprocessing import StandardScaler"
   ]
  },
  {
   "cell_type": "code",
   "execution_count": 20,
   "id": "b8326ee5",
   "metadata": {},
   "outputs": [],
   "source": [
    "scaler_age = StandardScaler()\n",
    "scaler_trestbps=StandardScaler()\n",
    "scaler_chol=StandardScaler()\n",
    "scaler_thalach=StandardScaler()\n",
    "scaler_oldpeak=StandardScaler()\n",
    "df.age=scaler_age.fit_transform(df[['age']])\n",
    "df.trestbps=scaler_trestbps.fit_transform(df[['trestbps']])\n",
    "df.chol=scaler_chol.fit_transform(df[['chol']])\n",
    "df.thalach=scaler_thalach.fit_transform(df[['thalach']])\n",
    "df.oldpeak=scaler_oldpeak.fit_transform(df[['oldpeak']])"
   ]
  },
  {
   "cell_type": "code",
   "execution_count": 22,
   "id": "5412d056",
   "metadata": {
    "scrolled": true
   },
   "outputs": [
    {
     "data": {
      "text/html": [
       "<div>\n",
       "<style scoped>\n",
       "    .dataframe tbody tr th:only-of-type {\n",
       "        vertical-align: middle;\n",
       "    }\n",
       "\n",
       "    .dataframe tbody tr th {\n",
       "        vertical-align: top;\n",
       "    }\n",
       "\n",
       "    .dataframe thead th {\n",
       "        text-align: right;\n",
       "    }\n",
       "</style>\n",
       "<table border=\"1\" class=\"dataframe\">\n",
       "  <thead>\n",
       "    <tr style=\"text-align: right;\">\n",
       "      <th></th>\n",
       "      <th>age</th>\n",
       "      <th>sex</th>\n",
       "      <th>cp</th>\n",
       "      <th>trestbps</th>\n",
       "      <th>chol</th>\n",
       "      <th>fbs</th>\n",
       "      <th>restecg</th>\n",
       "      <th>thalach</th>\n",
       "      <th>exang</th>\n",
       "      <th>oldpeak</th>\n",
       "      <th>slope</th>\n",
       "      <th>ca</th>\n",
       "      <th>thal</th>\n",
       "      <th>target</th>\n",
       "    </tr>\n",
       "  </thead>\n",
       "  <tbody>\n",
       "    <tr>\n",
       "      <th>0</th>\n",
       "      <td>-0.268437</td>\n",
       "      <td>1</td>\n",
       "      <td>0</td>\n",
       "      <td>-0.377636</td>\n",
       "      <td>-0.659332</td>\n",
       "      <td>0</td>\n",
       "      <td>1</td>\n",
       "      <td>0.821321</td>\n",
       "      <td>0</td>\n",
       "      <td>-0.060888</td>\n",
       "      <td>2</td>\n",
       "      <td>2</td>\n",
       "      <td>3</td>\n",
       "      <td>0</td>\n",
       "    </tr>\n",
       "    <tr>\n",
       "      <th>1</th>\n",
       "      <td>-0.158157</td>\n",
       "      <td>1</td>\n",
       "      <td>0</td>\n",
       "      <td>0.479107</td>\n",
       "      <td>-0.833861</td>\n",
       "      <td>1</td>\n",
       "      <td>0</td>\n",
       "      <td>0.255968</td>\n",
       "      <td>1</td>\n",
       "      <td>1.727137</td>\n",
       "      <td>0</td>\n",
       "      <td>0</td>\n",
       "      <td>3</td>\n",
       "      <td>0</td>\n",
       "    </tr>\n",
       "    <tr>\n",
       "      <th>2</th>\n",
       "      <td>1.716595</td>\n",
       "      <td>1</td>\n",
       "      <td>0</td>\n",
       "      <td>0.764688</td>\n",
       "      <td>-1.396233</td>\n",
       "      <td>0</td>\n",
       "      <td>1</td>\n",
       "      <td>-1.048692</td>\n",
       "      <td>1</td>\n",
       "      <td>1.301417</td>\n",
       "      <td>0</td>\n",
       "      <td>0</td>\n",
       "      <td>3</td>\n",
       "      <td>0</td>\n",
       "    </tr>\n",
       "    <tr>\n",
       "      <th>3</th>\n",
       "      <td>0.724079</td>\n",
       "      <td>1</td>\n",
       "      <td>0</td>\n",
       "      <td>0.936037</td>\n",
       "      <td>-0.833861</td>\n",
       "      <td>0</td>\n",
       "      <td>1</td>\n",
       "      <td>0.516900</td>\n",
       "      <td>0</td>\n",
       "      <td>-0.912329</td>\n",
       "      <td>2</td>\n",
       "      <td>1</td>\n",
       "      <td>3</td>\n",
       "      <td>0</td>\n",
       "    </tr>\n",
       "    <tr>\n",
       "      <th>4</th>\n",
       "      <td>0.834359</td>\n",
       "      <td>0</td>\n",
       "      <td>0</td>\n",
       "      <td>0.364875</td>\n",
       "      <td>0.930822</td>\n",
       "      <td>1</td>\n",
       "      <td>1</td>\n",
       "      <td>-1.874977</td>\n",
       "      <td>0</td>\n",
       "      <td>0.705408</td>\n",
       "      <td>1</td>\n",
       "      <td>3</td>\n",
       "      <td>2</td>\n",
       "      <td>0</td>\n",
       "    </tr>\n",
       "  </tbody>\n",
       "</table>\n",
       "</div>"
      ],
      "text/plain": [
       "        age  sex  cp  trestbps      chol  fbs  restecg   thalach  exang  \\\n",
       "0 -0.268437    1   0 -0.377636 -0.659332    0        1  0.821321      0   \n",
       "1 -0.158157    1   0  0.479107 -0.833861    1        0  0.255968      1   \n",
       "2  1.716595    1   0  0.764688 -1.396233    0        1 -1.048692      1   \n",
       "3  0.724079    1   0  0.936037 -0.833861    0        1  0.516900      0   \n",
       "4  0.834359    0   0  0.364875  0.930822    1        1 -1.874977      0   \n",
       "\n",
       "    oldpeak  slope  ca  thal  target  \n",
       "0 -0.060888      2   2     3       0  \n",
       "1  1.727137      0   0     3       0  \n",
       "2  1.301417      0   0     3       0  \n",
       "3 -0.912329      2   1     3       0  \n",
       "4  0.705408      1   3     2       0  "
      ]
     },
     "execution_count": 22,
     "metadata": {},
     "output_type": "execute_result"
    }
   ],
   "source": [
    "df.head()"
   ]
  },
  {
   "cell_type": "code",
   "execution_count": 23,
   "id": "e01585cd",
   "metadata": {},
   "outputs": [],
   "source": [
    "X=df.drop('target',axis=1)\n",
    "Y=np.array(df['target'])"
   ]
  },
  {
   "cell_type": "code",
   "execution_count": 24,
   "id": "84adb4b3",
   "metadata": {},
   "outputs": [],
   "source": [
    "from sklearn.model_selection import train_test_split\n",
    "x_train,x_test,y_train,y_test=train_test_split(X,Y,test_size=0.2)"
   ]
  },
  {
   "cell_type": "markdown",
   "id": "0088105b",
   "metadata": {},
   "source": [
    "# Comparison of Different Algorithms"
   ]
  },
  {
   "cell_type": "code",
   "execution_count": 25,
   "id": "319e67f1",
   "metadata": {},
   "outputs": [],
   "source": [
    "models =[]\n",
    "models.append(('LR',LogisticRegression()))\n",
    "models.append(('LDA',LinearDiscriminantAnalysis()))\n",
    "models.append(('KNC',KNeighborsClassifier()))\n",
    "models.append(('DTC',DecisionTreeClassifier()))\n",
    "models.append(('NB',GaussianNB()))\n",
    "models.append(('SVM',SVC()))"
   ]
  },
  {
   "cell_type": "code",
   "execution_count": 26,
   "id": "32b3768e",
   "metadata": {},
   "outputs": [
    {
     "name": "stdout",
     "output_type": "stream",
     "text": [
      "LR 84.75609756097562\n",
      "LDA 83.41463414634147\n",
      "KNC 83.04878048780488\n",
      "DTC 98.65853658536587\n",
      "NB 83.78048780487805\n",
      "SVM 89.26829268292681\n"
     ]
    }
   ],
   "source": [
    "results = []\n",
    "names = []\n",
    "for name,model in models:\n",
    "    kfold=KFold(n_splits= 10)\n",
    "    cv_results = cross_val_score(model,x_train,y_train,cv=kfold)\n",
    "    results.append(cv_results)\n",
    "    names.append(name)\n",
    "    print(name,cv_results.mean()*100)"
   ]
  },
  {
   "cell_type": "markdown",
   "id": "59d36dc3",
   "metadata": {},
   "source": [
    "# Comparison of Algorithms"
   ]
  },
  {
   "cell_type": "code",
   "execution_count": 27,
   "id": "afec1933",
   "metadata": {
    "scrolled": false
   },
   "outputs": [
    {
     "data": {
      "image/png": "[encoded data removed]",
      "text/plain": [
       "<Figure size 432x288 with 1 Axes>"
      ]
     },
     "metadata": {
      "needs_background": "light"
     },
     "output_type": "display_data"
    }
   ],
   "source": [
    "plt.figure()\n",
    "plt.title(\"Algorithm Comparison\")\n",
    "plt.boxplot(results)\n",
    "plt.xticks(ticks=range(1,7),labels=names)\n",
    "plt.show()"
   ]
  },
  {
   "cell_type": "code",
   "execution_count": 28,
   "id": "a67a41a7",
   "metadata": {
    "scrolled": false
   },
   "outputs": [
    {
     "data": {
      "image/png": "[encoded data removed]",
      "text/plain": [
       "<Figure size 432x288 with 12 Axes>"
      ]
     },
     "metadata": {
      "needs_background": "light"
     },
     "output_type": "display_data"
    }
   ],
   "source": [
    "i=1\n",
    "confusion_matrices=[]\n",
    "\n",
    "for name,model in models:\n",
    "    model.fit(x_train,y_train)\n",
    "    y_pred= model.predict(x_test)\n",
    "    cm=confusion_matrix(y_test,y_pred)\n",
    "    confusion_matrices.append((name,cm))\n",
    "    \n",
    "    plt.subplot(2,3,i)\n",
    "    i+=1\n",
    "    plt.title(name)\n",
    "    sns.heatmap(cm,annot=True,fmt='g',square=True)\n",
    "plt.tight_layout()\n",
    "plt.savefig('heatmap.png')\n",
    "    "
   ]
  },
  {
   "cell_type": "markdown",
   "id": "541a8340",
   "metadata": {},
   "source": [
    "# Recall, Precision, F-Measure"
   ]
  },
  {
   "cell_type": "markdown",
   "id": "347f8abc",
   "metadata": {},
   "source": [
    "##### Precision quantifies the number of positive class predictions that actually belong to the positive class.\n",
    "##### Recall quantifies the number of positive class predictions made out of all positive examples in the dataset.\n",
    "##### F-Measure provides a single score that balances both the concerns of precision and recall in one number"
   ]
  },
  {
   "cell_type": "code",
   "execution_count": 29,
   "id": "5498d62d",
   "metadata": {},
   "outputs": [
    {
     "name": "stdout",
     "output_type": "stream",
     "text": [
      "LR: Recall=0.8035714285714286, Precision = 0.8256880733944955,F-measure=0.8144796380090498\n",
      "\n",
      "LDA: Recall=0.8392857142857143, Precision = 0.8173913043478261,F-measure=0.8281938325991189\n",
      "\n",
      "KNC: Recall=0.8392857142857143, Precision = 0.8785046728971962,F-measure=0.8584474885844748\n",
      "\n",
      "DTC: Recall=1.0, Precision = 1.0,F-measure=1.0\n",
      "\n",
      "NB: Recall=0.7678571428571429, Precision = 0.8269230769230769,F-measure=0.7962962962962962\n",
      "\n",
      "SVM: Recall=0.8392857142857143, Precision = 0.8623853211009175,F-measure=0.8506787330316743\n",
      "\n"
     ]
    }
   ],
   "source": [
    "for name,cm in confusion_matrices:\n",
    "    recall = cm[1][1]/(cm[1][1]+cm[1][0])\n",
    "    precision= cm[1][1]/(cm[1][1]+cm[0][1])\n",
    "    print(f'{name}: Recall={recall}, Precision = {precision},F-measure={(2*recall*precision)/(recall+precision)}')\n",
    "    print('')"
   ]
  },
  {
   "cell_type": "markdown",
   "id": "8aff0f89",
   "metadata": {},
   "source": [
    "# Voting"
   ]
  },
  {
   "cell_type": "code",
   "execution_count": 30,
   "id": "3136bc27",
   "metadata": {},
   "outputs": [],
   "source": [
    "estimators = []\n",
    "model1=DecisionTreeClassifier()\n",
    "model2=SVC()\n",
    "model3=LogisticRegression()\n",
    "estimators.append(('DTC',model1))\n",
    "estimators.append(('SVM',model2))\n",
    "estimators.append(('LR',model3))"
   ]
  },
  {
   "cell_type": "code",
   "execution_count": 31,
   "id": "499f3f56",
   "metadata": {},
   "outputs": [],
   "source": [
    "from sklearn.ensemble import VotingClassifier\n",
    "ensemble = VotingClassifier(estimators)"
   ]
  },
  {
   "cell_type": "code",
   "execution_count": 32,
   "id": "cbd25a31",
   "metadata": {},
   "outputs": [],
   "source": [
    "kfold = KFold(n_splits = 10)\n",
    "results = cross_val_score(ensemble, x_train,y_train,cv=kfold)"
   ]
  },
  {
   "cell_type": "code",
   "execution_count": 33,
   "id": "d9bd6528",
   "metadata": {},
   "outputs": [
    {
     "data": {
      "text/plain": [
       "array([0.8902439 , 0.93902439, 0.86585366, 0.93902439, 0.90243902,\n",
       "       0.8902439 , 0.90243902, 0.87804878, 0.91463415, 0.86585366])"
      ]
     },
     "execution_count": 33,
     "metadata": {},
     "output_type": "execute_result"
    }
   ],
   "source": [
    "results"
   ]
  },
  {
   "cell_type": "markdown",
   "id": "99768c48",
   "metadata": {},
   "source": [
    "# Final Model"
   ]
  },
  {
   "cell_type": "code",
   "execution_count": 34,
   "id": "b304e87c",
   "metadata": {},
   "outputs": [],
   "source": [
    "final_model= ensemble.fit(x_train,y_train)"
   ]
  },
  {
   "cell_type": "code",
   "execution_count": 35,
   "id": "1d364ffb",
   "metadata": {},
   "outputs": [
    {
     "data": {
      "text/plain": [
       "0.9134146341463415"
      ]
     },
     "execution_count": 35,
     "metadata": {},
     "output_type": "execute_result"
    }
   ],
   "source": [
    "final_model.score(x_train,y_train)"
   ]
  },
  {
   "cell_type": "code",
   "execution_count": 36,
   "id": "70e3397d",
   "metadata": {},
   "outputs": [
    {
     "data": {
      "text/plain": [
       "0.8585365853658536"
      ]
     },
     "execution_count": 36,
     "metadata": {},
     "output_type": "execute_result"
    }
   ],
   "source": [
    "final_model.score(x_test,y_test)"
   ]
  },
  {
   "cell_type": "code",
   "execution_count": 37,
   "id": "4676cc2b",
   "metadata": {},
   "outputs": [],
   "source": [
    "import warnings\n",
    "warnings.filterwarnings(\"ignore\")"
   ]
  },
  {
   "cell_type": "markdown",
   "id": "72b9d3bf",
   "metadata": {},
   "source": [
    "# Testing"
   ]
  },
  {
   "cell_type": "code",
   "execution_count": 38,
   "id": "4a09735f",
   "metadata": {},
   "outputs": [],
   "source": [
    "input_data=np.array([54,1,0,122,286,0,0,116,1,3.2,1,2,2])"
   ]
  },
  {
   "cell_type": "code",
   "execution_count": 39,
   "id": "e6f4f9e7",
   "metadata": {},
   "outputs": [
    {
     "data": {
      "text/html": [
       "<div>\n",
       "<style scoped>\n",
       "    .dataframe tbody tr th:only-of-type {\n",
       "        vertical-align: middle;\n",
       "    }\n",
       "\n",
       "    .dataframe tbody tr th {\n",
       "        vertical-align: top;\n",
       "    }\n",
       "\n",
       "    .dataframe thead th {\n",
       "        text-align: right;\n",
       "    }\n",
       "</style>\n",
       "<table border=\"1\" class=\"dataframe\">\n",
       "  <thead>\n",
       "    <tr style=\"text-align: right;\">\n",
       "      <th></th>\n",
       "      <th>age</th>\n",
       "      <th>sex</th>\n",
       "      <th>cp</th>\n",
       "      <th>trestbps</th>\n",
       "      <th>chol</th>\n",
       "      <th>fbs</th>\n",
       "      <th>restecg</th>\n",
       "      <th>thalach</th>\n",
       "      <th>exang</th>\n",
       "      <th>oldpeak</th>\n",
       "      <th>slope</th>\n",
       "      <th>ca</th>\n",
       "      <th>thal</th>\n",
       "      <th>target</th>\n",
       "    </tr>\n",
       "  </thead>\n",
       "  <tbody>\n",
       "    <tr>\n",
       "      <th>0</th>\n",
       "      <td>-0.268437</td>\n",
       "      <td>1</td>\n",
       "      <td>0</td>\n",
       "      <td>-0.377636</td>\n",
       "      <td>-0.659332</td>\n",
       "      <td>0</td>\n",
       "      <td>1</td>\n",
       "      <td>0.821321</td>\n",
       "      <td>0</td>\n",
       "      <td>-0.060888</td>\n",
       "      <td>2</td>\n",
       "      <td>2</td>\n",
       "      <td>3</td>\n",
       "      <td>0</td>\n",
       "    </tr>\n",
       "    <tr>\n",
       "      <th>1</th>\n",
       "      <td>-0.158157</td>\n",
       "      <td>1</td>\n",
       "      <td>0</td>\n",
       "      <td>0.479107</td>\n",
       "      <td>-0.833861</td>\n",
       "      <td>1</td>\n",
       "      <td>0</td>\n",
       "      <td>0.255968</td>\n",
       "      <td>1</td>\n",
       "      <td>1.727137</td>\n",
       "      <td>0</td>\n",
       "      <td>0</td>\n",
       "      <td>3</td>\n",
       "      <td>0</td>\n",
       "    </tr>\n",
       "    <tr>\n",
       "      <th>2</th>\n",
       "      <td>1.716595</td>\n",
       "      <td>1</td>\n",
       "      <td>0</td>\n",
       "      <td>0.764688</td>\n",
       "      <td>-1.396233</td>\n",
       "      <td>0</td>\n",
       "      <td>1</td>\n",
       "      <td>-1.048692</td>\n",
       "      <td>1</td>\n",
       "      <td>1.301417</td>\n",
       "      <td>0</td>\n",
       "      <td>0</td>\n",
       "      <td>3</td>\n",
       "      <td>0</td>\n",
       "    </tr>\n",
       "    <tr>\n",
       "      <th>3</th>\n",
       "      <td>0.724079</td>\n",
       "      <td>1</td>\n",
       "      <td>0</td>\n",
       "      <td>0.936037</td>\n",
       "      <td>-0.833861</td>\n",
       "      <td>0</td>\n",
       "      <td>1</td>\n",
       "      <td>0.516900</td>\n",
       "      <td>0</td>\n",
       "      <td>-0.912329</td>\n",
       "      <td>2</td>\n",
       "      <td>1</td>\n",
       "      <td>3</td>\n",
       "      <td>0</td>\n",
       "    </tr>\n",
       "    <tr>\n",
       "      <th>4</th>\n",
       "      <td>0.834359</td>\n",
       "      <td>0</td>\n",
       "      <td>0</td>\n",
       "      <td>0.364875</td>\n",
       "      <td>0.930822</td>\n",
       "      <td>1</td>\n",
       "      <td>1</td>\n",
       "      <td>-1.874977</td>\n",
       "      <td>0</td>\n",
       "      <td>0.705408</td>\n",
       "      <td>1</td>\n",
       "      <td>3</td>\n",
       "      <td>2</td>\n",
       "      <td>0</td>\n",
       "    </tr>\n",
       "  </tbody>\n",
       "</table>\n",
       "</div>"
      ],
      "text/plain": [
       "        age  sex  cp  trestbps      chol  fbs  restecg   thalach  exang  \\\n",
       "0 -0.268437    1   0 -0.377636 -0.659332    0        1  0.821321      0   \n",
       "1 -0.158157    1   0  0.479107 -0.833861    1        0  0.255968      1   \n",
       "2  1.716595    1   0  0.764688 -1.396233    0        1 -1.048692      1   \n",
       "3  0.724079    1   0  0.936037 -0.833861    0        1  0.516900      0   \n",
       "4  0.834359    0   0  0.364875  0.930822    1        1 -1.874977      0   \n",
       "\n",
       "    oldpeak  slope  ca  thal  target  \n",
       "0 -0.060888      2   2     3       0  \n",
       "1  1.727137      0   0     3       0  \n",
       "2  1.301417      0   0     3       0  \n",
       "3 -0.912329      2   1     3       0  \n",
       "4  0.705408      1   3     2       0  "
      ]
     },
     "execution_count": 39,
     "metadata": {},
     "output_type": "execute_result"
    }
   ],
   "source": [
    "df.head()"
   ]
  },
  {
   "cell_type": "code",
   "execution_count": 40,
   "id": "abfc10a9",
   "metadata": {},
   "outputs": [],
   "source": [
    "input_data[0]=scaler_age.transform(input_data[0].reshape(1,-1))\n",
    "input_data[3]=scaler_trestbps.transform(input_data[3].reshape(1,-1))\n",
    "input_data[4]=scaler_chol.transform(input_data[4].reshape(1,-1))\n",
    "input_data[7]=scaler_thalach.transform(input_data[7].reshape(1,-1))\n",
    "input_data[9]=scaler_oldpeak.transform(input_data[9].reshape(1,-1))"
   ]
  },
  {
   "cell_type": "code",
   "execution_count": 41,
   "id": "f61106ef",
   "metadata": {},
   "outputs": [],
   "source": [
    "input_pred=final_model.predict(input_data.reshape(1,-1))"
   ]
  },
  {
   "cell_type": "code",
   "execution_count": 42,
   "id": "fe20677e",
   "metadata": {},
   "outputs": [
    {
     "name": "stdout",
     "output_type": "stream",
     "text": [
      "The person has less possibility of having a heart disease\n"
     ]
    }
   ],
   "source": [
    "if input_pred==1:\n",
    "    print(\"The person has possibilities of Heart Disease\")\n",
    "else:\n",
    "    print(\"The person has less possibility of having a heart disease\")\n"
   ]
  },
  {
   "cell_type": "markdown",
   "id": "fb2bd45e",
   "metadata": {},
   "source": [
    "# Saving the Model and Scaling"
   ]
  },
  {
   "cell_type": "code",
   "execution_count": 43,
   "id": "03ef4e9d",
   "metadata": {},
   "outputs": [],
   "source": [
    "import pickle"
   ]
  },
  {
   "cell_type": "code",
   "execution_count": 44,
   "id": "118c1807",
   "metadata": {},
   "outputs": [],
   "source": [
    "pickle.dump(final_model,open('heart_pred.sav','wb'))\n",
    "pickle.dump(scaler_age, open('scaler_age.sav', 'wb'))\n",
    "pickle.dump(scaler_trestbps, open('scaler_trestbps.sav', 'wb'))\n",
    "pickle.dump(scaler_chol, open('scaler_chol.sav', 'wb'))\n",
    "pickle.dump(scaler_thalach, open('scaler_thalach.sav', 'wb'))\n",
    "pickle.dump(scaler_oldpeak, open('scaler_oldpeak.sav', 'wb'))"
   ]
  },
  {
   "cell_type": "markdown",
   "id": "c0c46952",
   "metadata": {},
   "source": [
    "# Loading the Model"
   ]
  },
  {
   "cell_type": "code",
   "execution_count": 45,
   "id": "732e07ff",
   "metadata": {},
   "outputs": [],
   "source": [
    "load_model=pickle.load(open('heart_pred.sav','rb'))"
   ]
  },
  {
   "cell_type": "code",
   "execution_count": 46,
   "id": "54ac93d4",
   "metadata": {},
   "outputs": [
    {
     "name": "stdout",
     "output_type": "stream",
     "text": [
      "The person has less possibility of having a heart disease\n"
     ]
    }
   ],
   "source": [
    "input_data=np.array([54,1,0,122,286,0,0,116,1,3.2,1,2,2])\n",
    "input_data[0]=scaler_age.transform(input_data[0].reshape(1,-1))\n",
    "input_data[3]=scaler_trestbps.transform(input_data[3].reshape(1,-1))\n",
    "input_data[4]=scaler_chol.transform(input_data[4].reshape(1,-1))\n",
    "input_data[7]=scaler_thalach.transform(input_data[7].reshape(1,-1))\n",
    "input_data[9]=scaler_oldpeak.transform(input_data[9].reshape(1,-1))\n",
    "input_pred=load_model.predict(input_data.reshape(1,-1))\n",
    "if input_pred==1:\n",
    "    print(\"The person has possibilities of Heart Disease\")\n",
    "else:\n",
    "    print(\"The person has less possibility of having a heart disease\")\n"
   ]
  },
  {
   "cell_type": "code",
   "execution_count": 47,
   "id": "0bc838fc",
   "metadata": {},
   "outputs": [
    {
     "data": {
      "text/plain": [
       "array([-0.06088839,  1.72713707,  1.30141672, -0.91232909,  0.70540823,\n",
       "        2.83400998, -0.23117653,  1.81228114,  0.44997602,  1.641993  ,\n",
       "       -0.3163206 ,  2.66372184,  0.36483196,  0.96084044,  0.02425568,\n",
       "       -0.65689688, -0.57175281, -0.40146467,  1.98256928,  1.47170486,\n",
       "        0.10939975,  1.55684893,  2.15285742,  0.27968789, -0.74204095,\n",
       "        0.7905523 ,  3.85573881, -0.14603246,  0.62026416,  4.36660323,\n",
       "        2.4934337 ,  1.21627265, -0.48660874, -0.82718502,  0.87569637,\n",
       "        1.13112858,  2.32314556,  1.04598451,  0.19454382,  2.06771335])"
      ]
     },
     "execution_count": 47,
     "metadata": {},
     "output_type": "execute_result"
    }
   ],
   "source": [
    "df.oldpeak.unique()"
   ]
  },
  {
   "cell_type": "markdown",
   "id": "e3cf06b6",
   "metadata": {},
   "source": [
    "# Deployment"
   ]
  },
  {
   "cell_type": "markdown",
   "id": "c68a78da",
   "metadata": {},
   "source": [
    "##### 1. Please use pycharm for deployment, enter the below code in the pycharm\n",
    "##### 2. Copy the models and scaling in the same folder of the pycharm project \n",
    "##### 3. Enter code in the Pycharm terminal streamlit run 'the path of the python file'"
   ]
  },
  {
   "cell_type": "code",
   "execution_count": 48,
   "id": "065c5d44",
   "metadata": {},
   "outputs": [
    {
     "name": "stderr",
     "output_type": "stream",
     "text": [
      "2023-01-08 16:44:30.507 \n",
      "  \u001b[33m\u001b[1mWarning:\u001b[0m to view this Streamlit app on a browser, run it with the following\n",
      "  command:\n",
      "\n",
      "    streamlit run C:\\Users\\91994\\AppData\\Local\\Programs\\Python\\Python310\\lib\\site-packages\\ipykernel_launcher.py [ARGUMENTS]\n"
     ]
    }
   ],
   "source": [
    "import streamlit as st\n",
    "import pickle\n",
    "import numpy as np\n",
    "\n",
    "load_model = pickle.load(open('heart_pred.sav','rb'))\n",
    "scaler_age = pickle.load(open('scaler_age.sav', 'rb'))\n",
    "scaler_trestbps = pickle.load(open('scaler_trestbps.sav', 'rb'))\n",
    "scaler_chol = pickle.load(open('scaler_chol.sav', 'rb'))\n",
    "scaler_thalach = pickle.load(open('scaler_thalach.sav', 'rb'))\n",
    "scaler_oldpeak = pickle.load(open('scaler_oldpeak.sav', 'rb'))\n",
    "\n",
    "def heart_disease_prediction(input_data):\n",
    "    input_data=np.array(input_data)\n",
    "    input_data[0]=scaler_age.transform(input_data[0].reshape(1,-1))\n",
    "    input_data[3]=scaler_trestbps.transform(input_data[3].reshape(1,-1))\n",
    "    input_data[4]=scaler_chol.transform(input_data[4].reshape(1,-1))\n",
    "    input_data[7]=scaler_thalach.transform(input_data[7].reshape(1,-1))\n",
    "    input_data[9]=scaler_oldpeak.transform(input_data[9].reshape(1,-1))\n",
    "    input_pred=load_model.predict(input_data.reshape(1,-1))\n",
    "    if input_pred==1:\n",
    "        return(\"The person has possibilities of Heart Disease\")\n",
    "    else:\n",
    "        return(\"The person has less possibility of having a heart disease\")\n",
    "def main():\n",
    "    st.title('Heart Disease Predictor')\n",
    "    def str_to_int(h):\n",
    "        d=1\n",
    "        if '.' in h:\n",
    "            d=10**(len(h)-(h.index('.')+1))\n",
    "            h=h.replace('.','')\n",
    "        s=0\n",
    "        for a in h:\n",
    "            s= int(h)\n",
    "        return (s/d)\n",
    "    \n",
    "    Age = st.text_input('Enter Age:')\n",
    "    Age =str_to_int(Age)\n",
    "    \n",
    "    Sex_M=0\n",
    "    Sex = st.radio('Select Sex:',['M','F'])\n",
    "    if Sex == 'M':\n",
    "        Sex_M=1\n",
    "       \n",
    "    Chest_Pain=0\n",
    "    Chest_Pain_Type=st.radio(\"Select Type of Chest Pain : \",['Typical Angina', 'Atypical Angina', 'Non-Anginal Pain', 'Asymptomatic'])\n",
    "    if Chest_Pain_Type=='Typical Angina':\n",
    "        Chest_Pain=0\n",
    "    elif Chest_Pain_Type== 'Atypical Angina':\n",
    "        Chest_Pain=1\n",
    "    elif Chest_Pain_Type == 'Non-Anginal Pain':\n",
    "         Chest_Pain=2\n",
    "    elif Chest_Pain_Type == 'Asymptomatic':\n",
    "         Chest_Pain=3\n",
    "        \n",
    "    RestingBP = st.text_input('Enter Resting BP: ')\n",
    "    RestingBP =str_to_int(RestingBP)\n",
    "    \n",
    "    Cholesterol = st.text_input('Enter Cholesterol Level:')\n",
    "    Cholesterol= str_to_int(Cholesterol)\n",
    "    \n",
    "    Fasting_BS=0\n",
    "    FastingBS_level=st.radio(\"If Fasting Blood Sugar > 120mg/dl\",[\"Yes\",'NO'])\n",
    "    if FastingBS_level=='Yes':\n",
    "        Fasting_BS=1\n",
    "    \n",
    "    resting_ecg=0\n",
    "    resting_ecg_res=st.radio(\"Select Resting Electro Cardiograph Results :\",['Normal','Having ST-T wave abnormality (T wave inversions and/or ST elevation or depression of >0.05 mV',\n",
    "                                                                             'Showing probable or definite left ventricular hypertrophy'])\n",
    "    if resting_ecg_res=='Having ST-T wave abnormality (T wave inversions and/or ST elevation or depression of >0.05 mV':\n",
    "        resting_ecg=1\n",
    "    elif resting_ecg_res=='Showing probable or definite left ventricular hypertrophy':\n",
    "        resting_ecg=2\n",
    "    \n",
    "    Max_HR_Ach= st.text_input(\"Enter Maximum Heartrate Achieved\")\n",
    "    Max_HR_Ach =str_to_int(Max_HR_Ach)\n",
    "    \n",
    "    E_I_A=0\n",
    "    EIA=st.radio(\"Exercise Induced angina : \",[\"Yes\",\"No\"])\n",
    "    if EIA ==\"Yes\":\n",
    "        E_I_A=1\n",
    "    \n",
    "    oldpeak=st.text_input('ST depression induced by exercise relative to rest:')\n",
    "    oldpeak =str_to_int(oldpeak)\n",
    "    \n",
    "    slope=0\n",
    "    slope_pe =st.radio(\"the slope of the peak exercise ST segment: \",['Down','Flat','Up' ])\n",
    "    if slope_pe=='Down':\n",
    "        slope=0\n",
    "    elif slope_pe==\"Flat\":\n",
    "        slope=1\n",
    "    elif slope_pe==\"Up\":\n",
    "        slope =2\n",
    "    \n",
    "    major_vessels=st.radio(\"Number of major vessels (0-3) colored by flourosopy\",['0','1','2','3'])\n",
    "    major_vessels=str_to_int(major_vessels)\n",
    "    \n",
    "    thal=0\n",
    "    Thalassemia= st.radio(\"Enter Thalassemia :\",[\"Normal\",\"Fixed Defect\",\"Reversable Defect\"])\n",
    "    if Thalassemia==\"Normal\":\n",
    "        thal=0\n",
    "    elif Thalassemia == \"Fixed Defect\":\n",
    "        thal =1\n",
    "    elif Thalassemia ==\"Reversable Defect\":\n",
    "        thal =2\n",
    "    \n",
    "    diagnosis=''\n",
    "    if st.button(\"Click for Results\"):\n",
    "        diagnosis= heart_disease_prediction([Age,Sex_M,Chest_Pain,RestingBP,Cholesterol,Fasting_BS,resting_ecg,\n",
    "                                             Max_HR_Ach,E_I_A,oldpeak,slope,major_vessels,thal])\n",
    "        st.success(diagnosis)\n",
    "if __name__ == '__main__':\n",
    "    main()    "
   ]
  },
  {
   "cell_type": "code",
   "execution_count": null,
   "id": "0fee78d3",
   "metadata": {},
   "outputs": [],
   "source": []
  }
 ],
 "metadata": {
  "kernelspec": {
   "display_name": "Python 3 (ipykernel)",
   "language": "python",
   "name": "python3"
  },
  "language_info": {
   "codemirror_mode": {
    "name": "ipython",
    "version": 3
   },
   "file_extension": ".py",
   "mimetype": "text/x-python",
   "name": "python",
   "nbconvert_exporter": "python",
   "pygments_lexer": "ipython3",
   "version": "3.10.4"
  }
 },
 "nbformat": 4,
 "nbformat_minor": 5
}
